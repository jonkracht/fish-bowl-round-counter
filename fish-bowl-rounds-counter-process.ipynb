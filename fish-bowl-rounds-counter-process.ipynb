{
 "cells": [
  {
   "cell_type": "code",
   "execution_count": 3,
   "metadata": {},
   "outputs": [],
   "source": [
    "import pandas as pd"
   ]
  },
  {
   "cell_type": "code",
   "execution_count": 4,
   "metadata": {},
   "outputs": [],
   "source": [
    "df = pd.read_csv('fish-bowl-rounds-counter-data.csv')"
   ]
  },
  {
   "cell_type": "code",
   "execution_count": 9,
   "metadata": {},
   "outputs": [
    {
     "name": "stdout",
     "output_type": "stream",
     "text": [
      "48278.0    9\n",
      "56246.0    9\n",
      "49714.0    9\n",
      "41869.0    8\n",
      "17035.0    8\n",
      "16027.0    8\n",
      "31029.0    8\n",
      "54687.0    8\n",
      "12024.0    8\n",
      "55386.0    7\n",
      "14268.0    7\n",
      "66363.0    7\n",
      "68213.0    7\n",
      "66112.0    7\n",
      "48559.0    7\n",
      "16287.0    7\n",
      "72449.0    7\n",
      "2607.0     6\n",
      "57567.0    6\n",
      "4218.0     6\n",
      "68214.0    6\n",
      "59456.0    6\n",
      "74699.0    6\n",
      "46829.0    6\n",
      "9920.0     6\n",
      "67657.0    6\n",
      "76413.0    6\n",
      "72527.0    6\n",
      "54672.0    6\n",
      "44665.0    6\n",
      "66155.0    6\n",
      "38735.0    5\n",
      "91988.0    5\n",
      "45396.0    5\n",
      "49860.0    5\n",
      "68406.0    5\n",
      "27892.0    5\n",
      "62106.0    5\n",
      "13217.0    5\n",
      "4792.0     5\n",
      "89785.0    5\n",
      "77856.0    5\n",
      "16286.0    5\n",
      "58216.0    5\n",
      "54120.0    4\n",
      "15853.0    4\n",
      "62487.0    4\n",
      "47869.0    4\n",
      "39025.0    4\n",
      "55401.0    4\n",
      "Name: PDGA number, dtype: int64\n"
     ]
    }
   ],
   "source": [
    "print(df['PDGA number'].value_counts().head(50))"
   ]
  },
  {
   "cell_type": "code",
   "execution_count": 8,
   "metadata": {},
   "outputs": [
    {
     "name": "stdout",
     "output_type": "stream",
     "text": [
      "              Player Name  PDGA number\n",
      "292             Frederick      16286.0\n",
      "582          Aaron Barber     114956.0\n",
      "447           Aaron Fahey      44665.0\n",
      "531           Aaron Fahey      44665.0\n",
      "172           Aaron Fahey      44665.0\n",
      "..                    ...          ...\n",
      "423           dave greene          NaN\n",
      "255         justin madore      17035.0\n",
      "331  kyle pew pew gunagan          NaN\n",
      "320          mark manogue          NaN\n",
      "275      scott greenawalt      22970.0\n",
      "\n",
      "[834 rows x 2 columns]\n"
     ]
    }
   ],
   "source": [
    "print(df.sort_values(by='Player Name'))"
   ]
  },
  {
   "cell_type": "code",
   "execution_count": null,
   "metadata": {},
   "outputs": [],
   "source": []
  }
 ],
 "metadata": {
  "kernelspec": {
   "display_name": "Python 3",
   "language": "python",
   "name": "python3"
  },
  "language_info": {
   "codemirror_mode": {
    "name": "ipython",
    "version": 3
   },
   "file_extension": ".py",
   "mimetype": "text/x-python",
   "name": "python",
   "nbconvert_exporter": "python",
   "pygments_lexer": "ipython3",
   "version": "3.8.10"
  }
 },
 "nbformat": 4,
 "nbformat_minor": 4
}
